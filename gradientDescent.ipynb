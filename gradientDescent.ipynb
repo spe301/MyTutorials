{
  "nbformat": 4,
  "nbformat_minor": 0,
  "metadata": {
    "colab": {
      "name": "gradientDescent.ipynb",
      "provenance": [],
      "authorship_tag": "ABX9TyPTzHv0qB33f78GGsLab++p",
      "include_colab_link": true
    },
    "kernelspec": {
      "name": "python3",
      "display_name": "Python 3"
    },
    "language_info": {
      "name": "python"
    }
  },
  "cells": [
    {
      "cell_type": "markdown",
      "metadata": {
        "id": "view-in-github",
        "colab_type": "text"
      },
      "source": [
        "<a href=\"https://colab.research.google.com/github/spe301/MyTutorials/blob/main/gradientDescent.ipynb\" target=\"_parent\"><img src=\"https://colab.research.google.com/assets/colab-badge.svg\" alt=\"Open In Colab\"/></a>"
      ]
    },
    {
      "cell_type": "code",
      "metadata": {
        "id": "yEfgAZkWpiOz"
      },
      "source": [
        "import pandas as pd\n",
        "\n",
        "df = pd.read_csv('https://raw.githubusercontent.com/spe301/dsc-phase-2-project-online/master/data/kc_house_data.csv')\n",
        "x = df['sqft_living']\n",
        "y = df['price']"
      ],
      "execution_count": 2,
      "outputs": []
    },
    {
      "cell_type": "code",
      "metadata": {
        "colab": {
          "base_uri": "https://localhost:8080/",
          "height": 293
        },
        "id": "U3nWL7QhpxQ4",
        "outputId": "02b4e58d-990c-48d2-99e2-546783eff93b"
      },
      "source": [
        "from matplotlib import pyplot as plt \n",
        "\n",
        "plt.scatter(x, y)"
      ],
      "execution_count": 4,
      "outputs": [
        {
          "output_type": "execute_result",
          "data": {
            "text/plain": [
              "<matplotlib.collections.PathCollection at 0x7f50d5c815d0>"
            ]
          },
          "metadata": {
            "tags": []
          },
          "execution_count": 4
        },
        {
          "output_type": "display_data",
          "data": {
            "image/png": "[encoded data removed]",
            "text/plain": [
              "<Figure size 432x288 with 1 Axes>"
            ]
          },
          "metadata": {
            "tags": [],
            "needs_background": "light"
          }
        }
      ]
    },
    {
      "cell_type": "code",
      "metadata": {
        "id": "ZYxwjrsoqEM-"
      },
      "source": [
        "m = 500\n",
        "b = 50000"
      ],
      "execution_count": 5,
      "outputs": []
    },
    {
      "cell_type": "code",
      "metadata": {
        "colab": {
          "base_uri": "https://localhost:8080/"
        },
        "id": "1Q8DDpJfqypF",
        "outputId": "becc3062-f1bc-4a3d-b85d-1ce7fc0b98fc"
      },
      "source": [
        "def error(x, y, m, b):\n",
        "  n = len(x)\n",
        "  error = 0\n",
        "  for i in range(n):\n",
        "    yhat = (m*x[i]) + b\n",
        "    error += abs(yhat - y[i])/n\n",
        "  return error\n",
        "\n",
        "error(x, y, m, b)"
      ],
      "execution_count": 7,
      "outputs": [
        {
          "output_type": "execute_result",
          "data": {
            "text/plain": [
              "561804.9508728054"
            ]
          },
          "metadata": {
            "tags": []
          },
          "execution_count": 7
        }
      ]
    },
    {
      "cell_type": "code",
      "metadata": {
        "id": "_UrJCkeesXrA"
      },
      "source": [
        "def step(x, y, m, b, alpha):\n",
        "  n = len(x)\n",
        "  derivB = 0\n",
        "  derivM = 0\n",
        "  for i in range(n):\n",
        "    derivB += (-2/n) * (y[i] - ((m * x[i]) + b))\n",
        "    derivM += (-2/n) * x[i] * (y[i] - ((m * x[i]) + b))"
      ],
      "execution_count": 8,
      "outputs": []
    }
  ]
}